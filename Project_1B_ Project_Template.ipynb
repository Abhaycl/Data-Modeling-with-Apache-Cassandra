{
 "cells": [
  {
   "cell_type": "markdown",
   "metadata": {
    "editable": true
   },
   "source": [
    "# Part I. ETL Pipeline for Pre-Processing the Files"
   ]
  },
  {
   "cell_type": "markdown",
   "metadata": {
    "editable": true
   },
   "source": [
    "## PLEASE RUN THE FOLLOWING CODE FOR PRE-PROCESSING THE FILES"
   ]
  },
  {
   "cell_type": "markdown",
   "metadata": {
    "editable": true
   },
   "source": [
    "#### Import Python packages "
   ]
  },
  {
   "cell_type": "code",
   "execution_count": 1,
   "metadata": {
    "editable": true
   },
   "outputs": [],
   "source": [
    "# Import Python packages.\n",
    "import pandas as pd\n",
    "import cassandra\n",
    "import re\n",
    "import os\n",
    "import glob\n",
    "import numpy as np\n",
    "import json\n",
    "import csv"
   ]
  },
  {
   "cell_type": "markdown",
   "metadata": {
    "editable": true
   },
   "source": [
    "#### Creating list of filepaths to process original event csv data files"
   ]
  },
  {
   "cell_type": "code",
   "execution_count": 2,
   "metadata": {
    "editable": true
   },
   "outputs": [
    {
     "name": "stdout",
     "output_type": "stream",
     "text": [
      "/home/workspace\n"
     ]
    }
   ],
   "source": [
    "# Checking your current working directory.\n",
    "print(os.getcwd())\n",
    "\n",
    "# Get your current folder and subfolder event data.\n",
    "filepath = os.getcwd() + '/event_data'\n",
    "\n",
    "# Create a for loop to create a list of files and collect each filepath.\n",
    "for root, dirs, files in os.walk(filepath):\n",
    "\n",
    "# Join the file path and roots with the subdirectories using glob.\n",
    "    file_path_list = glob.glob(os.path.join(root,'*'))\n",
    "    #print(file_path_list)"
   ]
  },
  {
   "cell_type": "markdown",
   "metadata": {
    "editable": true
   },
   "source": [
    "#### Processing the files to create the data file csv that will be used for Apache Casssandra tables"
   ]
  },
  {
   "cell_type": "code",
   "execution_count": 3,
   "metadata": {
    "editable": true
   },
   "outputs": [],
   "source": [
    "# Initiating an empty list of rows that will be generated from each file.\n",
    "full_data_rows_list = []\n",
    "\n",
    "# For every filepath in the file path list.\n",
    "for f in file_path_list:\n",
    "\n",
    "    # Reading csv file.\n",
    "    with open(f, 'r', encoding = 'utf8', newline='') as csvfile:\n",
    "        # creating a csv reader object.\n",
    "        csvreader = csv.reader(csvfile)\n",
    "        next(csvreader)\n",
    "        \n",
    "        # Extracting each data row one by one and append it.\n",
    "        for line in csvreader:\n",
    "            # Uncomment the code below if you would like to visualize each of the lines read in the csv files.\n",
    "            #print(line)\n",
    "            full_data_rows_list.append(line)\n",
    "\n",
    "# Uncomment the code below if you would like to get total number of rows.\n",
    "#print(len(full_data_rows_list))\n",
    "# Uncomment the code below if you would like to check to see what the list of event data rows will look like.\n",
    "#print(full_data_rows_list)\n",
    "\n",
    "# Creating a smaller event data csv file called event_datafile_full csv that will be used to insert data into the Apache Cassandra tables.\n",
    "csv.register_dialect('myDialect', quoting=csv.QUOTE_ALL, skipinitialspace=True)\n",
    "\n",
    "with open('event_datafile_new.csv', 'w', encoding = 'utf8', newline='') as f:\n",
    "    writer = csv.writer(f, dialect='myDialect')\n",
    "    writer.writerow(['artist','firstName','gender','itemInSession','lastName','length','level','location','sessionId','song','userId'])\n",
    "    for row in full_data_rows_list:\n",
    "        if (row[0] == ''):\n",
    "            continue\n",
    "        writer.writerow((row[0], row[2], row[3], row[4], row[5], row[6], row[7], row[8], row[12], row[13], row[16]))\n"
   ]
  },
  {
   "cell_type": "code",
   "execution_count": 4,
   "metadata": {
    "editable": true
   },
   "outputs": [
    {
     "name": "stdout",
     "output_type": "stream",
     "text": [
      "6821\n"
     ]
    }
   ],
   "source": [
    "# Check the number of rows in your csv file.\n",
    "with open('event_datafile_new.csv', 'r', encoding = 'utf8') as f:\n",
    "    print(sum(1 for line in f))"
   ]
  },
  {
   "cell_type": "markdown",
   "metadata": {
    "editable": true
   },
   "source": [
    "# Part II. Complete the Apache Cassandra coding portion of your project. \n",
    "\n",
    "## Now you are ready to work with the CSV file titled <font color=red>event_datafile_new.csv</font>, located within the Workspace directory.  The event_datafile_new.csv contains the following columns: \n",
    "- artist \n",
    "- firstName of user\n",
    "- gender of user\n",
    "- item number in session\n",
    "- last name of user\n",
    "- length of the song\n",
    "- level (paid or free song)\n",
    "- location of the user\n",
    "- sessionId\n",
    "- song title\n",
    "- userId\n",
    "\n",
    "The image below is a screenshot of what the denormalized data should appear like in the <font color=red>**event_datafile_new.csv**</font> after the code above is run:<br>\n",
    "\n",
    "<img src=\"images/image_event_datafile_new.jpg\">"
   ]
  },
  {
   "cell_type": "markdown",
   "metadata": {
    "editable": true
   },
   "source": [
    "## Begin writing your Apache Cassandra code in the cells below"
   ]
  },
  {
   "cell_type": "markdown",
   "metadata": {
    "editable": true
   },
   "source": [
    "#### Creating a Cluster"
   ]
  },
  {
   "cell_type": "code",
   "execution_count": 5,
   "metadata": {
    "editable": true
   },
   "outputs": [],
   "source": [
    "# This should make a connection to a Cassandra instance your local machine (127.0.0.1).\n",
    "from cassandra.cluster import Cluster\n",
    "\n",
    "try:\n",
    "    # Connect to local Apache Cassandra instance.\n",
    "    cluster = Cluster(['127.0.0.1'])\n",
    "    # To establish connection and begin executing queries, need a session.\n",
    "    session = cluster.connect()\n",
    "\n",
    "except Exception as e:\n",
    "    print(e)"
   ]
  },
  {
   "cell_type": "markdown",
   "metadata": {
    "editable": true
   },
   "source": [
    "#### Create Keyspace"
   ]
  },
  {
   "cell_type": "code",
   "execution_count": 6,
   "metadata": {
    "editable": true
   },
   "outputs": [],
   "source": [
    "# Create a keyspace called sparkify.\n",
    "try:\n",
    "    session.execute(\"\"\"\n",
    "        CREATE KEYSPACE IF NOT EXISTS sparkify\n",
    "        WITH REPLICATION = {'class': 'SimpleStrategy', 'replication_factor': 1}\"\"\"\n",
    "    )\n",
    "\n",
    "except Exception as e:\n",
    "    print(e)"
   ]
  },
  {
   "cell_type": "markdown",
   "metadata": {
    "editable": true
   },
   "source": [
    "#### Set Keyspace"
   ]
  },
  {
   "cell_type": "code",
   "execution_count": 7,
   "metadata": {
    "editable": true
   },
   "outputs": [],
   "source": [
    "# Set KEYSPACE to the keyspace specified above.\n",
    "try:\n",
    "    session.set_keyspace(\"sparkify\")\n",
    "\n",
    "except Exception as e:\n",
    "    print(e)"
   ]
  },
  {
   "cell_type": "markdown",
   "metadata": {
    "editable": true
   },
   "source": [
    "### Now we need to create tables to run the following queries. Remember, with Apache Cassandra you model the database tables on the queries you want to run."
   ]
  },
  {
   "cell_type": "markdown",
   "metadata": {
    "editable": true
   },
   "source": [
    "## Create queries to ask the following three questions of the data\n",
    "\n",
    "### 1. Give me the artist, song title and song's length in the music app history that was heard during  sessionId = 338, and itemInSession  = 4\n",
    "\n",
    "\n",
    "### 2. Give me only the following: name of artist, song (sorted by itemInSession) and user (first and last name) for userid = 10, sessionid = 182\n",
    "    \n",
    "\n",
    "### 3. Give me every user name (first and last) in my music app history who listened to the song 'All Hands Against His Own'"
   ]
  },
  {
   "cell_type": "markdown",
   "metadata": {
    "editable": true
   },
   "source": [
    "---"
   ]
  },
  {
   "cell_type": "markdown",
   "metadata": {
    "editable": true
   },
   "source": [
    "### 1. Give me the artist, song title and song's length in the music app history that was heard during  sessionId = 338, and itemInSession  = 4"
   ]
  },
  {
   "cell_type": "code",
   "execution_count": 8,
   "metadata": {
    "editable": true
   },
   "outputs": [],
   "source": [
    "# For the first query, the table will be created containing the songs for a specified session.\n",
    "# Which has the following column names and their corresponding primary keys:\n",
    "#   sessionId INT\n",
    "#   itemInSession INT\n",
    "#   artist TEXT\n",
    "#   song TEXT\n",
    "#   length FLOAT\n",
    "#   PRIMARY KEY(sessionId, itemInSession)\n",
    "query_1 = \"CREATE TABLE IF NOT EXISTS songs_session \"\n",
    "query_1 = query_1 + \"(sessionId int, itemInSession int, artist text, song text, length float, PRIMARY KEY(sessionId, itemInSession))\"\n",
    "\n",
    "try:\n",
    "    session.execute(query_1)\n",
    "\n",
    "except Exception as e:\n",
    "    print(e)"
   ]
  },
  {
   "cell_type": "code",
   "execution_count": 9,
   "metadata": {
    "editable": true
   },
   "outputs": [],
   "source": [
    "# We have provided part of the code to set up the CSV file. Please complete the Apache Cassandra code below.\n",
    "file = 'event_datafile_new.csv'\n",
    "\n",
    "# The file event_datafile_new.csv is opened for reading.\n",
    "with open(file, encoding = 'utf8') as f:\n",
    "    csvreader = csv.reader(f)\n",
    "    # Skip header.\n",
    "    next(csvreader)\n",
    "    for line in csvreader:\n",
    "        # Assign the INSERT statements into the `query` variable.\n",
    "        query = \"INSERT INTO songs_session (sessionId, itemInSession, artist, song, length)\"\n",
    "        query = query + \" VALUES (%s, %s, %s, %s, %s)\"\n",
    "        # Assign which column element should be assigned for each column in the INSERT statement:\n",
    "        # sessionId = line[8]\n",
    "        # itemInSession = line[3]\n",
    "        # artist = line[0]\n",
    "        # song = line[9]\n",
    "        # length = line[5]\n",
    "        session.execute(query, (int(line[8]), int(line[3]), line[0], line[9], float(line[5])))"
   ]
  },
  {
   "cell_type": "markdown",
   "metadata": {
    "editable": true
   },
   "source": [
    "#### Do a SELECT to verify that the data have been inserted into each table"
   ]
  },
  {
   "cell_type": "code",
   "execution_count": 10,
   "metadata": {
    "editable": true,
    "scrolled": true
   },
   "outputs": [
    {
     "name": "stdout",
     "output_type": "stream",
     "text": [
      "ARTIST: Faithless\t SONG: Music Matters (Mark Knight Dub)\t LENGTH: 495.30731201171875\n"
     ]
    }
   ],
   "source": [
    "# Add in the SELECT statement to verify the data was entered into the table songs_session.\n",
    "# This CQL query only gives me the following:\n",
    "# The artists with their title and song length that are on the songs_session table when the session ID is 338 and the item in the session is 4.\n",
    "query = \"SELECT artist, song, length FROM songs_session WHERE sessionId = 338 AND itemInSession = 4\"\n",
    "\n",
    "try:\n",
    "    # The query is executed to obtain the data.\n",
    "    rows = session.execute(query)\n",
    "\n",
    "except Exception as e:\n",
    "    print(e)\n",
    "\n",
    "for row in rows:\n",
    "    # The data corresponding to the artist, the song and its length are displayed.\n",
    "    print(\"ARTIST: {}\\t SONG: {}\\t LENGTH: {}\".format(row.artist, row.song, row.length))"
   ]
  },
  {
   "cell_type": "markdown",
   "metadata": {
    "editable": true
   },
   "source": [
    "### COPY AND REPEAT THE ABOVE THREE CELLS FOR EACH OF THE THREE QUESTIONS"
   ]
  },
  {
   "cell_type": "markdown",
   "metadata": {
    "editable": true
   },
   "source": [
    "### 2. Give me only the following: name of artist, song (sorted by itemInSession) and user (first and last name) for userid = 10, sessionid = 182"
   ]
  },
  {
   "cell_type": "code",
   "execution_count": 11,
   "metadata": {
    "editable": true
   },
   "outputs": [],
   "source": [
    "# For the second query, a table will be created containing the songs per user for a specified session\n",
    "# Which has the following column names and their corresponding primary keys:\n",
    "#   userId INT\n",
    "#   sessionId INT\n",
    "#   itemInSession INT\n",
    "#   artist TEXT\n",
    "#   song TEXT\n",
    "#   firstName TEXT\n",
    "#   lastName TEXT\n",
    "#   PRIMARY KEY((userId, sessionId), itemInSession)\n",
    "query_2 = \"CREATE TABLE IF NOT EXISTS songs_user_session \"\n",
    "query_2 = query_2 + \"(userId int, sessionId int, itemInSession int, artist text, song text, firstName text, lastName text, PRIMARY KEY((userId, sessionId), itemInSession))\"\n",
    "\n",
    "try:\n",
    "    session.execute(query_2)\n",
    "\n",
    "except Exception as e:\n",
    "    print(e)"
   ]
  },
  {
   "cell_type": "code",
   "execution_count": 12,
   "metadata": {
    "editable": true
   },
   "outputs": [],
   "source": [
    "# We have provided part of the code to set up the CSV file. Please complete the Apache Cassandra code below.\n",
    "file = 'event_datafile_new.csv'\n",
    "\n",
    "# The file event_datafile_new.csv is opened for reading.\n",
    "with open(file, encoding = 'utf8') as f:\n",
    "    csvreader = csv.reader(f)\n",
    "    # Skip header.\n",
    "    next(csvreader)\n",
    "    for line in csvreader:\n",
    "        # Assign the INSERT statements into the `query` variable.\n",
    "        query = \"INSERT INTO songs_user_session (userId, sessionId, itemInSession, artist, song, firstName, lastName)\"\n",
    "        query = query + \" VALUES (%s, %s, %s, %s, %s, %s, %s)\"\n",
    "        # Assign which column element should be assigned for each column in the INSERT statement:\n",
    "        # userId = line[10]\n",
    "        # sessionId = line[8]\n",
    "        # itemInSession = line[3]\n",
    "        # artist = line[0]\n",
    "        # song = line[9]\n",
    "        # firstName = line[1]\n",
    "        # lastName = line[4]\n",
    "        session.execute(query, (int(line[10]), int(line[8]), int(line[3]), line[0], line[9], line[1], line[4]))"
   ]
  },
  {
   "cell_type": "code",
   "execution_count": 13,
   "metadata": {
    "editable": true
   },
   "outputs": [
    {
     "name": "stdout",
     "output_type": "stream",
     "text": [
      "ARTIST: Down To The Bone    SONG: Keep On Keepin' On\n",
      "ARTIST: Three Drives        SONG: Greece 2000\n",
      "ARTIST: Sebastien Tellier   SONG: Kilometer\n",
      "ARTIST: Lonnie Gordon       SONG: Catch You Baby (Steve Pitron & Max Sanna Radio Edit)\n"
     ]
    }
   ],
   "source": [
    "# Add in the SELECT statement to verify the data was entered into the table songs_user_session.\n",
    "# This CQL query only gives me the following:\n",
    "# The artists with their song (sorted by the item in the session) and the user (with first and last name) from the songs_user_session table when the user ID is 10 and the session ID is 182.\n",
    "query = \"SELECT artist, song, firstName, lastName, itemInSession FROM songs_user_session WHERE userId = 10 AND sessionId = 182\"\n",
    "\n",
    "try:\n",
    "    # The query is executed to obtain the data.\n",
    "    rows = session.execute(query)\n",
    "\n",
    "except Exception as e:\n",
    "    print(e)\n",
    "\n",
    "for row in rows:\n",
    "    # The data corresponding to the artist and the song are displayed.\n",
    "    print(\"ARTIST: {:20}\".format(row.artist), end=\"\")\n",
    "    print(\"SONG: {}\".format(row.song))"
   ]
  },
  {
   "cell_type": "markdown",
   "metadata": {
    "editable": true
   },
   "source": [
    "### 3. Give me every user name (first and last) in my music app history who listened to the song 'All Hands Against His Own'"
   ]
  },
  {
   "cell_type": "code",
   "execution_count": 14,
   "metadata": {
    "editable": true
   },
   "outputs": [],
   "source": [
    "# For the third query, a table will be created containing the users for a specified song.\n",
    "# Which has the following column names and their corresponding primary keys:\n",
    "#   song TEXT\n",
    "#   userId INT\n",
    "#   firstName TEXT\n",
    "#   lastName TEXT\n",
    "#   PRIMARY KEY(song, userId)\n",
    "query_3 = \"CREATE TABLE IF NOT EXISTS users_song \"\n",
    "query_3 = query_3 + \"(song text, userId int, firstName text, lastName text, PRIMARY KEY(song, userId))\"\n",
    "\n",
    "try:\n",
    "    session.execute(query_3)\n",
    "\n",
    "except Exception as e:\n",
    "    print(e)"
   ]
  },
  {
   "cell_type": "code",
   "execution_count": 15,
   "metadata": {
    "editable": true
   },
   "outputs": [],
   "source": [
    "# We have provided part of the code to set up the CSV file. Please complete the Apache Cassandra code below.\n",
    "file = 'event_datafile_new.csv'\n",
    "\n",
    "# The file event_datafile_new.csv is opened for reading.\n",
    "with open(file, encoding = 'utf8') as f:\n",
    "    csvreader = csv.reader(f)\n",
    "    # Skip header.\n",
    "    next(csvreader)\n",
    "    for line in csvreader:\n",
    "        # Assign the INSERT statements into the `query` variable.\n",
    "        query = \"INSERT INTO users_song (song, userId, firstName, lastName)\"\n",
    "        query = query + \" VALUES (%s, %s, %s, %s)\"\n",
    "        # Assign which column element should be assigned for each column in the INSERT statement.\n",
    "        # song = line[9]\n",
    "        # userId = line[10]\n",
    "        # firstName = line[1]\n",
    "        # lastName = line[4]\n",
    "        session.execute(query, (line[9], int(line[10]), line[1], line[4]))"
   ]
  },
  {
   "cell_type": "code",
   "execution_count": 16,
   "metadata": {
    "editable": true
   },
   "outputs": [
    {
     "name": "stdout",
     "output_type": "stream",
     "text": [
      "FIRST_NAME: Jacqueline\tLAST_NAME: Lynch\n",
      "FIRST_NAME: Tegan     \tLAST_NAME: Levine\n",
      "FIRST_NAME: Sara      \tLAST_NAME: Johnson\n"
     ]
    }
   ],
   "source": [
    "# Add in the SELECT statement to verify the data was entered into the table users_song.\n",
    "# This CQL query only gives me the following:\n",
    "# All users (first and last name) from the users_song table when the song is 'All Hands Against His Own'.\n",
    "query = \"SELECT firstName, lastName FROM users_song WHERE song = 'All Hands Against His Own'\"\n",
    "\n",
    "try:\n",
    "    # The query is executed to obtain the data.\n",
    "    rows = session.execute(query)\n",
    "\n",
    "except Exception as e:\n",
    "    print(e)\n",
    "\n",
    "for row in rows:\n",
    "    # The data corresponding to the user's name are displayed.\n",
    "    print(\"FIRST_NAME: {0:10}\".format(row.firstname), end=\"\\t\")\n",
    "    print(\"LAST_NAME: {}\".format(row.lastname))"
   ]
  },
  {
   "cell_type": "markdown",
   "metadata": {
    "editable": true
   },
   "source": [
    "### Drop the tables before closing out the sessions"
   ]
  },
  {
   "cell_type": "code",
   "execution_count": 17,
   "metadata": {
    "editable": true
   },
   "outputs": [],
   "source": [
    "# Drop the table songs_session before closing out the sessions\n",
    "query = \"DROP TABLE songs_session\"\n",
    "\n",
    "try:\n",
    "    rows = session.execute(query)\n",
    "\n",
    "except Exception as e:\n",
    "    print(e)"
   ]
  },
  {
   "cell_type": "code",
   "execution_count": 18,
   "metadata": {
    "editable": true
   },
   "outputs": [],
   "source": [
    "# Drop the table songs_user_session before closing out the sessions\n",
    "query = \"DROP TABLE songs_user_session\"\n",
    "\n",
    "try:\n",
    "    rows = session.execute(query)\n",
    "\n",
    "except Exception as e:\n",
    "    print(e)"
   ]
  },
  {
   "cell_type": "code",
   "execution_count": 19,
   "metadata": {
    "editable": true
   },
   "outputs": [],
   "source": [
    "# Drop the table users_song before closing out the sessions\n",
    "query = \"DROP TABLE users_song\"\n",
    "\n",
    "try:\n",
    "    rows = session.execute(query)\n",
    "\n",
    "except Exception as e:\n",
    "    print(e)"
   ]
  },
  {
   "cell_type": "markdown",
   "metadata": {
    "editable": true
   },
   "source": [
    "### Close the session and cluster connection"
   ]
  },
  {
   "cell_type": "code",
   "execution_count": 20,
   "metadata": {
    "editable": true
   },
   "outputs": [],
   "source": [
    "session.shutdown()\n",
    "cluster.shutdown()"
   ]
  },
  {
   "cell_type": "code",
   "execution_count": null,
   "metadata": {
    "editable": true
   },
   "outputs": [],
   "source": []
  }
 ],
 "metadata": {
  "kernelspec": {
   "display_name": "Python 3",
   "language": "python",
   "name": "python3"
  },
  "language_info": {
   "codemirror_mode": {
    "name": "ipython",
    "version": 3
   },
   "file_extension": ".py",
   "mimetype": "text/x-python",
   "name": "python",
   "nbconvert_exporter": "python",
   "pygments_lexer": "ipython3",
   "version": "3.6.3"
  }
 },
 "nbformat": 4,
 "nbformat_minor": 4
}
